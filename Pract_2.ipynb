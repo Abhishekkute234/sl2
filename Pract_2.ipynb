{
 "cells": [
  {
   "cell_type": "markdown",
   "id": "7cef26c5-b3ff-4c07-9bc2-6208b5a1095e",
   "metadata": {},
   "source": [
    "Name: Pratham Shewale \n",
    "Class: TE-B\n",
    "Roll-no: 22618"
   ]
  },
  {
   "cell_type": "code",
   "execution_count": 1,
   "id": "29ed3dc7-3f2e-4ca0-91a5-0dc0690a7dad",
   "metadata": {},
   "outputs": [
    {
     "name": "stdout",
     "output_type": "stream",
     "text": [
      "0\n",
      "1\n",
      "0\n",
      "0\n"
     ]
    }
   ],
   "source": [
    "import numpy as np\n",
    "def mp_neuron(inputs, weights, threshold):\n",
    "    weighted_sum = np.dot(inputs, weights)\n",
    "    output = 1 if weighted_sum >= threshold else 0\n",
    "    return output\n",
    "\n",
    "def and_not(x1, x2):\n",
    "    weights = [1, -1]  \n",
    "    threshold = 1\n",
    "    inputs = np.array([x1, x2])\n",
    "    return mp_neuron(inputs, weights, threshold)\n",
    "    \n",
    "print(and_not(0, 0)) \n",
    "print(and_not(1, 0)) \n",
    "print(and_not(0, 1)) \n",
    "print(and_not(1, 1))  \n"
   ]
  },
  {
   "cell_type": "code",
   "execution_count": null,
   "id": "45aef53c-9bf8-4936-99f2-1fd7b150e655",
   "metadata": {},
   "outputs": [],
   "source": []
  },
  {
   "cell_type": "code",
   "execution_count": null,
   "id": "56f856ca-40b9-4478-a89e-60580a666cf4",
   "metadata": {},
   "outputs": [],
   "source": []
  }
 ],
 "metadata": {
  "kernelspec": {
   "display_name": "Python 3 (ipykernel)",
   "language": "python",
   "name": "python3"
  },
  "language_info": {
   "codemirror_mode": {
    "name": "ipython",
    "version": 3
   },
   "file_extension": ".py",
   "mimetype": "text/x-python",
   "name": "python",
   "nbconvert_exporter": "python",
   "pygments_lexer": "ipython3",
   "version": "3.11.9"
  }
 },
 "nbformat": 4,
 "nbformat_minor": 5
}
