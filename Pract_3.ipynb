{
 "cells": [
  {
   "cell_type": "markdown",
   "id": "1abbf876-dcd6-4722-921d-c81f78451d47",
   "metadata": {},
   "source": [
    "Name: Pratham Shewale \n",
    "Class: TE-B\n",
    "Roll-no: 22618"
   ]
  },
  {
   "cell_type": "code",
   "execution_count": 1,
   "id": "00110b6f-91fd-4430-a6a6-41a08e01a710",
   "metadata": {},
   "outputs": [
    {
     "name": "stdin",
     "output_type": "stream",
     "text": [
      "Enter a Number (0-9):  5\n"
     ]
    },
    {
     "name": "stdout",
     "output_type": "stream",
     "text": [
      "5  is  odd\n"
     ]
    },
    {
     "name": "stdin",
     "output_type": "stream",
     "text": [
      "Enter a Number (0-9):  6\n"
     ]
    },
    {
     "name": "stdout",
     "output_type": "stream",
     "text": [
      "6  is  even\n"
     ]
    }
   ],
   "source": [
    "import numpy as np\n",
    "for m in (1,10) :\n",
    " j = int(input(\"Enter a Number (0-9): \"))\n",
    " \n",
    " step_function = lambda x: 1 if x >= 0 else 0\n",
    " training_data = [\n",
    "    {'input': [1, 1, 0, 0, 0, 0], 'label': 1},\n",
    "    {'input': [1, 1, 0, 0, 0, 1], 'label': 0},\n",
    "    {'input': [1, 1, 0, 0, 1, 0], 'label': 1},\n",
    "    {'input': [1, 1, 0, 1, 1, 1], 'label': 0},\n",
    "    {'input': [1, 1, 0, 1, 0, 0], 'label': 1},\n",
    "    {'input': [1, 1, 0, 1, 0, 1], 'label': 0},\n",
    "    {'input': [1, 1, 0, 1, 1, 0], 'label': 1},\n",
    "    {'input': [1, 1, 0, 1, 1, 1], 'label': 0},\n",
    "    {'input': [1, 1, 1, 0, 0, 0], 'label': 1},\n",
    "    {'input': [1, 1, 1, 0, 0, 1], 'label': 0},\n",
    " ]\n",
    " weights = np.array([0, 0, 0, 0, 0, 1])\n",
    "\n",
    " for data in training_data:\n",
    "    x_input = np.array(data['input'])\n",
    "    label = data['label']\n",
    "    output = step_function(np.dot(x_input, weights))\n",
    "    error = label - output\n",
    "    weights += x_input * error\n",
    "\n",
    " input_data = np.array([int(x) for x in list('{0:06b}'.format(j))])\n",
    " output = \"odd\" if step_function(np.dot(input_data, weights)) == 0 else \"even\"\n",
    " print(j, \" is \", output)\n",
    " m+=1 \n"
   ]
  },
  {
   "cell_type": "code",
   "execution_count": null,
   "id": "e09674b4-9dcf-49aa-832e-a0c20bf42dc1",
   "metadata": {},
   "outputs": [],
   "source": []
  }
 ],
 "metadata": {
  "kernelspec": {
   "display_name": "Python 3 (ipykernel)",
   "language": "python",
   "name": "python3"
  },
  "language_info": {
   "codemirror_mode": {
    "name": "ipython",
    "version": 3
   },
   "file_extension": ".py",
   "mimetype": "text/x-python",
   "name": "python",
   "nbconvert_exporter": "python",
   "pygments_lexer": "ipython3",
   "version": "3.11.9"
  }
 },
 "nbformat": 4,
 "nbformat_minor": 5
}
