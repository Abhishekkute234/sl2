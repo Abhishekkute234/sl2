{
 "cells": [
  {
   "cell_type": "code",
   "execution_count": null,
   "id": "5b1f4dda-e1a9-4837-ae88-01c9c86e261a",
   "metadata": {},
   "outputs": [],
   "source": [
    "Name : Pratham Shewale \n",
    "Class : TE-B\n",
    "Roll_no : 22618\n",
    "\n",
    "import numpy as np\n",
    "import matplotlib.pyplot as plt\n",
    "\n",
    "X = np.array([[0, 0], [1, 0], [0, 1], [1, 1],\n",
    "              [0.5, 0.5], [1.5, 0], [0, 1.5], [1.5, 1.5],\n",
    "              [-0.5, -0.5], [1.2, 1.2], [0.8, 0.3], [0.3, 0.8],\n",
    "              [1.3, 0.7], [0.7, 1.3], [0.9, 0.9]])\n",
    "\n",
    "Y = np.array([-1, -1, -1, 1, -1, 1, -1, 1, -1, 1, -1, -1, 1, 1, 1])\n",
    "\n",
    "W = np.zeros(X.shape[1])  \n",
    "b = 0  \n",
    "learning_rate = 0.3\n",
    "epochs = 10\n",
    "\n",
    "\n",
    "for _ in range(epochs):  \n",
    "    for i in range(X.shape[0]): \n",
    "        y_pred = np.sign(np.dot(X[i], W) + b) \n",
    "        if y_pred != Y[i]:  \n",
    "            W += learning_rate * Y[i] * X[i]\n",
    "            b += learning_rate * Y[i]\n",
    "\n",
    "x_min, x_max = X[:, 0].min() - 0.5, X[:, 0].max() + 0.5\n",
    "y_min, y_max = X[:, 1].min() - 0.5, X[:, 1].max() + 0.5\n",
    "xx, yy = np.meshgrid(np.linspace(x_min, x_max, 100),\n",
    "                     np.linspace(y_min, y_max, 100))\n",
    "Z = np.sign(np.dot(np.c_[xx.ravel(), yy.ravel()], W) + b)\n",
    "Z = Z.reshape(xx.shape)\n",
    "\n",
    "plt.figure(figsize=(5, 4)) \n",
    "plt.contour(xx, yy, Z, levels=[0], colors='black', linewidths=1.2)\n",
    "plt.contourf(xx, yy, Z, alpha=0.3, cmap='plasma')\n",
    "plt.scatter(X[:, 0], X[:, 1], c=Y, cmap='plasma', edgecolors='black', s=80, marker='o')\n",
    "plt.xlabel(\"Feature 1\", fontsize=10, fontweight='bold')\n",
    "plt.ylabel(\"Feature 2\", fontsize=10, fontweight='bold')\n",
    "plt.title(\"Modified Perceptron Decision Boundary\", fontsize=12, fontweight='bold')\n",
    "plt.grid(color='black', linestyle='-.', linewidth=0.5)\n",
    "plt.show()\n",
    "\n"
   ]
  }
 ],
 "metadata": {
  "kernelspec": {
   "display_name": "Python 3 (ipykernel)",
   "language": "python",
   "name": "python3"
  },
  "language_info": {
   "codemirror_mode": {
    "name": "ipython",
    "version": 3
   },
   "file_extension": ".py",
   "mimetype": "text/x-python",
   "name": "python",
   "nbconvert_exporter": "python",
   "pygments_lexer": "ipython3",
   "version": "3.11.9"
  }
 },
 "nbformat": 4,
 "nbformat_minor": 5
}
