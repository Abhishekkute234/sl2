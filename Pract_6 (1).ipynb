{
 "cells": [
  {
   "cell_type": "markdown",
   "id": "719c021c-74e9-48e9-9831-4b1539cd7d6c",
   "metadata": {},
   "source": [
    "Name: Pratham Shewale Class: TE-B Roll_no: 22618"
   ]
  },
  {
   "cell_type": "code",
   "execution_count": 4,
   "id": "e43b7fe4-69f3-40f9-87b3-1394d309760a",
   "metadata": {},
   "outputs": [],
   "source": [
    "import numpy as np\n",
    "def sigmoid(x):\n",
    "    return 1 / (1 + np.exp(-x))\n",
    "\n",
    "def sigmoid_derivative(x):\n",
    "    return x * (1 - x)"
   ]
  },
  {
   "cell_type": "code",
   "execution_count": 5,
   "id": "52103b3d-03c6-4104-a2d2-2070779337eb",
   "metadata": {},
   "outputs": [],
   "source": [
    "class NeuralNetwork:\n",
    "    def __init__(self, layers):\n",
    "        self.layers = layers\n",
    "        self.weights = []\n",
    "        \n",
    "        for i in range(1, len(layers)):\n",
    "            self.weights.append(np.random.randn(layers[i - 1], layers[i]) * 0.1)\n",
    "\n",
    "    def forward_propagation(self, X):\n",
    "        self.activations = [X]\n",
    "        self.z_values = []\n",
    "        \n",
    "        for i in range(len(self.layers) - 1):\n",
    "            z = np.dot(self.activations[i], self.weights[i])\n",
    "            self.z_values.append(z)\n",
    "            activation = sigmoid(z)\n",
    "            self.activations.append(activation)\n",
    "        \n",
    "        return self.activations[-1]\n",
    "\n",
    "    def backward_propagation(self, X, y, learning_rate):\n",
    "        output = self.forward_propagation(X)\n",
    "        error = y - output\n",
    "        delta = error * sigmoid_derivative(output)\n",
    "\n",
    "        for i in range(len(self.layers) - 2, -1, -1):\n",
    "            gradient = np.dot(self.activations[i].T, delta)\n",
    "            self.weights[i] += learning_rate * gradient\n",
    "\n",
    "            if i != 0: \n",
    "                error = np.dot(delta, self.weights[i].T)\n",
    "                delta = error * sigmoid_derivative(self.activations[i])\n",
    "\n",
    "    def train(self, X, y, epochs, learning_rate):\n",
    "        for epoch in range(epochs):\n",
    "            self.backward_propagation(X, y, learning_rate)\n",
    "            \n",
    "            if epoch % 1000 == 0:\n",
    "                loss = np.mean(np.abs(y - self.forward_propagation(X)))\n",
    "                print(f\"Epoch {epoch}: Loss = {loss:.6f}\")\n",
    "        \n",
    "        return self.forward_propagation(X)"
   ]
  },
  {
   "cell_type": "code",
   "execution_count": 6,
   "id": "56f2348b-728c-4739-a118-72805d0f0555",
   "metadata": {},
   "outputs": [],
   "source": [
    "X = np.array([[0, 0], [0, 1], [1, 0], [1, 1]])\n",
    "y = np.array([[0], [1], [1], [0]])\n",
    "\n",
    "layers = [2, 4, 1]\n",
    "nn = NeuralNetwork(layers)"
   ]
  },
  {
   "cell_type": "code",
   "execution_count": 7,
   "id": "90971ba8-cb70-4073-9b96-99e0fe0cdf60",
   "metadata": {},
   "outputs": [
    {
     "name": "stdout",
     "output_type": "stream",
     "text": [
      "\n",
      "Training the Neural Network...\n",
      "\n",
      "Epoch 0: Loss = 0.500005\n",
      "Epoch 1000: Loss = 0.500002\n",
      "Epoch 2000: Loss = 0.500001\n",
      "Epoch 3000: Loss = 0.500001\n",
      "Epoch 4000: Loss = 0.500001\n",
      "Epoch 5000: Loss = 0.500001\n",
      "Epoch 6000: Loss = 0.500001\n",
      "Epoch 7000: Loss = 0.500001\n",
      "Epoch 8000: Loss = 0.500000\n",
      "Epoch 9000: Loss = 0.500000\n",
      "\n",
      "Final Output after Training:\n",
      "Input: [0 0] → Predicted Output: 0.5002 → Expected: 0\n",
      "Input: [0 1] → Predicted Output: 0.5004 → Expected: 1\n",
      "Input: [1 0] → Predicted Output: 0.4997 → Expected: 1\n",
      "Input: [1 1] → Predicted Output: 0.4999 → Expected: 0\n"
     ]
    }
   ],
   "source": [
    "print(\"\\nTraining the Neural Network...\\n\")\n",
    "output = nn.train(X, y, epochs=10000, learning_rate=0.1)\n",
    "\n",
    "print(\"\\nFinal Output after Training:\")\n",
    "for i in range(len(X)):\n",
    "    print(f\"Input: {X[i]} → Predicted Output: {output[i][0]:.4f} → Expected: {y[i][0]}\")"
   ]
  },
  {
   "cell_type": "code",
   "execution_count": null,
   "id": "ed3f570f-f1f6-4581-9ae8-a115e1a8920d",
   "metadata": {},
   "outputs": [],
   "source": []
  }
 ],
 "metadata": {
  "kernelspec": {
   "display_name": "Python 3 (ipykernel)",
   "language": "python",
   "name": "python3"
  },
  "language_info": {
   "codemirror_mode": {
    "name": "ipython",
    "version": 3
   },
   "file_extension": ".py",
   "mimetype": "text/x-python",
   "name": "python",
   "nbconvert_exporter": "python",
   "pygments_lexer": "ipython3",
   "version": "3.11.9"
  }
 },
 "nbformat": 4,
 "nbformat_minor": 5
}
